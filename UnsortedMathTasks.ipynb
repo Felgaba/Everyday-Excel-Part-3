{
  "nbformat": 4,
  "nbformat_minor": 0,
  "metadata": {
    "colab": {
      "provenance": [],
      "authorship_tag": "ABX9TyMy96GVHTAtzBpxzVRj9ZuZ",
      "include_colab_link": true
    },
    "kernelspec": {
      "name": "python3",
      "display_name": "Python 3"
    },
    "language_info": {
      "name": "python"
    }
  },
  "cells": [
    {
      "cell_type": "markdown",
      "metadata": {
        "id": "view-in-github",
        "colab_type": "text"
      },
      "source": [
        "<a href=\"https://colab.research.google.com/github/Felhaba/Everyday-Excel-Part-3/blob/main/UnsortedMathTasks.ipynb\" target=\"_parent\"><img src=\"https://colab.research.google.com/assets/colab-badge.svg\" alt=\"Open In Colab\"/></a>"
      ]
    },
    {
      "cell_type": "markdown",
      "source": [
        "**1)** For the equation $xy^2 - 2xy + x^2y = 12$,  \n",
        "what is the slope of the tangent line at $(x, y) = (1, 4)$"
      ],
      "metadata": {
        "id": "xwv1JM-WBUER"
      }
    },
    {
      "cell_type": "markdown",
      "source": [
        "1) Найдём вектор-градиент в этой точке: $\\vec{a} = \\left( \\dfrac{\\partial\\vec{F}}{\\partial x}, \\dfrac{\\partial\\vec{F}}{\\partial y} \\right)$:  \n",
        "* $\\dfrac{\\partial\\vec{F}}{\\partial x_{(1, 4)} } = y^2 - 2y + 2xy = 16$;\n",
        "* $\\dfrac{\\partial\\vec{F}}{\\partial y_{(1, 4)}} = 2xy - 2x + x^2 = 7$.  \n",
        "\n",
        "Данный вектор перпендикулярен поверхности кривой $F(x, y)$, поэтому необходимо \"повернуть\" вектор на $90'$ и найти угол наклона:  \n",
        "**a)** угол наклона градиента: $tg\\alpha = \\dfrac{1}{ctg\\alpha} = \\dfrac{7}{16}$;  \n",
        "**b)** по формулам предения получаем значения угла наклона касательной через угол градиента: $tg(\\pi/2 + \\alpha) = tg\\beta = -ctg\\alpha$  \n",
        "**c)** котангенс найдём из пункта **a)** и поменяем знак: $tg\\beta = -\\dfrac{16}{7}$"
      ],
      "metadata": {
        "id": "dE9RwqkRCjNP"
      }
    },
    {
      "cell_type": "markdown",
      "source": [
        "**2)** Из точки $O$ на прямой $Ox$ выходит $2^n$ человек. Из них половина идёт направо, половина — вверх. Через $1$ час каждая группа снова делится пополам, и половина идёт направо, а половина — вверх. Такое разделение происходит каждый час. Сколько человек придёт в каждую точку через $n$ часов после выхода?  \n",
        "**Примечание:** на каждом шаге рассматривайте встившихся по группам (пришедшие снизу + сверху + слева и тд.). В таком случае встреча 4-х человек в одной клетке не означает их дальнейшее разделение."
      ],
      "metadata": {
        "id": "CDq3CNdu6xjX"
      }
    },
    {
      "cell_type": "markdown",
      "source": [
        "&ensp; Возьмём почти самый просто пример при $n = 3$: получим $2^3 = 8$ человек.  \n",
        "* Вдоль осей на шаге $3$: точки $(0, 3)$ и $(3, 0)$ будет заполнены $1$ человеком  \n",
        "* В точку $(1, 1)$ придут $2+2$ человека $\\Rightarrow$ $1+1$ вверх (в точку $(1, 2)$ ) и $1+1$ вправо (в точку $(2, 1)$ );\n",
        "* Из точек $(2, 0)$ и $(0, 2)$, где находится по $2$ человека, $1$ выйдет вправо (в точку $(1, 2)$ ), а другой наверх (в точку $(0, 3)$ );\n",
        "* Люди из предыдущих $2$-х пунктов попарно встретятся в точках $(2, 1)$ и $(1, 2)$: в каждой будет по $1+1+1 =3$ человека из $3$-х подгрупп.\n",
        "\n",
        "&ensp; То же самое можно сделать для n = 2, чтобы увидеть закономерность (треугольник Паскаля!).  \n",
        "\n",
        "&ensp; Ниже можно увидеть pretty изображение полученной структуры (к $n$ прибавляется $1$, т.к в python правая граница range не входит в диапазон)."
      ],
      "metadata": {
        "id": "7sw94b1nBD8m"
      }
    },
    {
      "cell_type": "code",
      "source": [
        "def current_row(n):\n",
        "    row=list()\n",
        "    for i in range(n):\n",
        "        if i==0 or i==n-1:\n",
        "            row.append(1)\n",
        "        else:\n",
        "            c_row=current_row(n-1)\n",
        "            row.append(c_row[i-1]+c_row[i])\n",
        "    return row\n",
        "\n",
        "def triangle(m):\n",
        "    result=list()\n",
        "    for i in range(m):\n",
        "        result.append(current_row(i+1))\n",
        "    ### beautify\n",
        "    for j in result:\n",
        "        print(\"{:^50s}\".format(str(j)))\n",
        "x = 3 + 1\n",
        "triangle(x)"
      ],
      "metadata": {
        "colab": {
          "base_uri": "https://localhost:8080/"
        },
        "id": "R4q-aTBZ_dA2",
        "outputId": "47ae4d3d-1902-4b0b-b7e5-5b7a86fad1f2"
      },
      "execution_count": null,
      "outputs": [
        {
          "output_type": "stream",
          "name": "stdout",
          "text": [
            "                       [1]                        \n",
            "                      [1, 1]                      \n",
            "                    [1, 2, 1]                     \n",
            "                   [1, 3, 3, 1]                   \n"
          ]
        }
      ]
    },
    {
      "cell_type": "markdown",
      "source": [
        "**3)** У кассы кинотеатра стоит очередь из $m + k$ человек, причём m человек имеют рубли, a $k$ — полтинники (монеты по $50$ копеек). Билет в кино стоит $50$ копеек, и в начале продажи билетов касса пуста.  \n",
        "&ensp; Сколькими способами могут располагаться в очереди люди с рублями и полтинниками так, что очередь пройдёт без задержки, т. е. никому не придётся ждать сдачу?"
      ],
      "metadata": {
        "id": "MxZyCwQaRIsr"
      }
    },
    {
      "cell_type": "markdown",
      "source": [
        "**Альтернативная формулировка задачи.**\n",
        "Найти число перестановок с повторениями из $m$ рублей и $k$ полтинников, таких что для любого $r, \\space 1 < r < m+k$, число полтинников среди первых $r$ элементов перестановки не меньше числа рублей.  \n",
        "Как и во многих комбинаторных задачах, здесь полезно использовать геометрическую иллюстрацию. Возьмём координатную сетку и будем изображать каждую перестановку рублей и полтинников ломаной, соединяющей узлы сетки по следующим правилам:  \n",
        "* ломаная начинается в начале координат $O(0; 0)$;\n",
        "* каждому полтиннику соответствует звено ломаной, идущее вверх направо;\n",
        "* каждому рублю — звено, идущее вверх налево.  \n",
        "\n",
        "Например, последовательности *«ппррпррппп»* соответствует ломаная, изображённая на\n",
        "рисунке ниже:"
      ],
      "metadata": {
        "id": "eiOE_KH0RWe1"
      }
    },
    {
      "cell_type": "markdown",
      "source": [
        "![](https://drive.google.com/uc?export=view&id=1dxeuvK7olPqUKZyPoiCf9Cn8-ExLdmLb)"
      ],
      "metadata": {
        "id": "oosURzCLWhLL"
      }
    },
    {
      "cell_type": "markdown",
      "source": [
        "если в последовательности имеется $m$ рублей ($m$ раз влево) и $k$ полтинников ($k$ раз вправо), то концом ломаной окажется точка:  \n",
        "$$A(k − m; k + m).$$  \n",
        "&ensp; Число ломаных, ведущих из точки $O$ в точку $A$, равно числу [перестановок с повторениями](https://www.yaklass.ru/p/algebra/11-klass/nachalnye-svedeniia-kombinatoriki-9340/perestanovki-perestanovki-bez-povtorenii-9343/re-fae87374-b861-453a-ac7e-7e29e05d40e1) из $m$ рублей и $k$ полтинников, т. е.:  \n",
        "$$P(m, k) = \\dfrac{(m+k)!}{m! \\cdot k!} = C_{m+k}^k$$  \n",
        "&ensp; Если очередь в какой-то момент времени застопорилась, то это значит, что число рублей к этому моменту оказалось на $1$ больше числа полтинников. Но тогда точка, движущаяся по ломаной, сделает влево на один шаг больше, чем вправо, и окажется на прямой $x = -1$ (для ломаной на рис. выше на этой прямой лежит точка $B(−1; 7)$; она указывает, что очередь остановится на $7$-ом\n",
        "шаге).  \n",
        "&ensp; Итак, всем перестановкам, при которых очередь останавливается в какой-то момент, соответствуют ломаные, имеющие точки на прямой $x = −1$. Обратно, если у ломаной есть точка на этой прямой, то очередь остановится.  \n",
        "\n",
        "Таким образом, задачу можно свести к следующей геометрической задаче.\n",
        "**Найти число ломаных указанного вида, не пересекающих прямую:**  \n",
        "$$x = -1$$\n",
        "&ensp; Здесь выгоднее искать число *«неблагоприятных»* случаев, т. е. будем искать число случаев, когда очередь задерживается (ломаная пересекает прямую $x = -1$). Если мы найдём это число, то, вычтя его из числа $P(k, m)$ — числа всех перестановок $m$ рублей и $k$ полтинников (общего число ломаных), получим ответ для нашей задачи."
      ],
      "metadata": {
        "id": "UY4SAGiYWOj0"
      }
    },
    {
      "cell_type": "markdown",
      "source": [
        "&ensp; Задачу можно преобразовать следующим образом. Взять наивысшую точку пересечения\n",
        "(максимально возможную) и часть ломаной L выше этой точки симметрично отразить в прямой $x = −1$. Такое преобразование ломаной $L$ в $L'$ показано на рис. ниже. При этом преобразовании точка $A(k−m, k+m)$, лежащая справа от прямой $x = −1$, переходит в симметричную ей точку $A'(m − k − 2, k + m),$ лежащую слева от прямой $x = −1$."
      ],
      "metadata": {
        "id": "k1OsEGyGdFHT"
      }
    },
    {
      "cell_type": "markdown",
      "source": [
        "![](https://drive.google.com/uc?export=view&id=1gHnPv_ATtER3Tmh6U1mRrjyVEZStzB7e)"
      ],
      "metadata": {
        "id": "hyjxBUcJfiza"
      }
    },
    {
      "cell_type": "markdown",
      "source": [
        "&ensp; При отображении отн-но нуля $m \\rightarrow k$ и наоборот, при смещении оси симметрии на единицу **влево** получаем, что $m \\rightarrow k + 1$ направленных влево (за счёт смещения) и $k \\rightarrow m-1$ направленных вправо, given that $m+k=10$.  \n",
        "&ensp; Сама же т. $A \\rightarrow A'$ с координатами $(m-k-2, k+m)$. $m-k$ - симметричное отображение вдоль $Oy$ и $-2$ за счёт сдвига на единицу **влево** (на 1 дальше от исходной точки - соответственно, ещё на 1 \"отодвинуть\" влево для симметрии).  \n",
        "\n",
        "Значит, общее число этих ломаных равно: $P(k+1, m-1)$. Число же ломаных, не пересекающих прямую $x = −1$, выражается формулой:  \n",
        "$$P(m, k) - P(k+1, m-1) = C_{m+k}^k - C_{m+k}^{k+1} = \\dfrac{k-m+1}{k+1} \\cdot C_{m+k}^k.$$\n",
        "\n",
        "В частности, если $k = m$, то очередь пройдёт без задержки в $\\frac{1}{k+1} \\cdot C^{k}_{2k}$ случаях и задержится в $\\frac{k}{k+1} \\cdot C^{k}_{2k}$ случаях. При большИх $k=m$ очередь чаще всего задержится."
      ],
      "metadata": {
        "id": "KpcajQ9vgCGz"
      }
    },
    {
      "cell_type": "markdown",
      "source": [
        "**3\\*)** Обозначим через $T_n$ число  \n",
        "$$T_n = \\frac{1}{1+n} \\cdot C_{2n}^n$$  \n",
        "показывающее, во скольких случаях проходит без задержки очередь из обладателей $n$ рублей и $n$ полтинников.  \n",
        "**Докажите, что эти числа удовлетворяют рекуррентному соотношению:**\n",
        "$$T_n = T_0 \\cdot T_{n-1} + T_1 \\cdot T_{n-2} + ... + T_{s-1} \\cdot T_{n-s} + ... + T_{n-1} \\cdot T_0.$$"
      ],
      "metadata": {
        "id": "nCuag5bylwOx"
      }
    },
    {
      "cell_type": "markdown",
      "source": [
        "&ensp; Для доказательства разобьем все варианты на классы, отнеся к $s$-му классу очереди, в которых лишь после того, как пройдут $2s$ покупателей, в первый раз обнаруживают отсутствие в кассе полтинников. В этом случае среди первых $2s$ покупателей имеется $s$ человек с полтинниками и $s$ человек с рублем, а число способов расстановки, при которых в кассе на первых $2s - 1$ шагах был хотя бы один полтинник $\\frac{1}{s} C_{2s-2}^{s-1} = T_{s-1}$(*).  \n",
        "&ensp; Среди оставшихся $2n - 2s$ людей у $n - s$ тенге и у $n - s$ полтинники. Расставить их так, чтобы очередь и потом прошла благополучно, можно $T_{n-s}$ способами.  \n",
        "&ensp; Всего по правилу произведения получаем, что в $s$-м классе будет $T_{s-1}T_{n-s}$ расстановок. А так как общее число благополучных расстановок равно $T_n$, то выполняется реккурентное равенство. При этом $T_0 = 1$.\n"
      ],
      "metadata": {
        "id": "9v_gx2p0CYR7"
      }
    },
    {
      "cell_type": "markdown",
      "source": [
        "**(\\*)** Эта задача тоже решается методом подсчета ломаных. Но теперь надо искать ломаные, пересекающие прямую $x = 0$ лишь в начале координат и (при $m = k$) в точке $A(0, 2k)$. Поскольку из условия задачи ясно, что в начале должны стоять два обладателя полтинника, то первого из них можно отвести в сторону, и тогда получим решенную выше задачу, но для случая, когда на $m$ рублей приходится\n",
        "$k - 1$ полтинник. Поэтому число *благоприятных расстановок* при $m < k$ равно  \n",
        "$$C_{m+k-1}^m - C_{m+k-1}^{m-1} = \\frac{k-m}{k} C_{m+k-1}^m$$\n",
        "Если же $m = k$, то надо отвести в сторону и замыкающего очередь обладателя рубля (т.к при равном количестве и тех, и других, держателю рубля нужен полтинник в кассе для успешного прохода: держатель рубля идёт последний, чтобы успешно замкнуть пару). Мы получим ответ  \n",
        "$$\\frac1k C_{2k-2}^{k-1}.$$\n"
      ],
      "metadata": {
        "id": "rpw234_mHCiN"
      }
    },
    {
      "cell_type": "markdown",
      "source": [
        "Пример для 6 человек (3 полтинника и 3 рубля): первое и последнее места зафиксированы, чтобы **1)** точно был *хотя бы* 1 полтинник и **2)** последнее, чтобы замкнуть цепочку.\n",
        "$$\\begin{array}{c|c|c}\n",
        "1 & 2 & 3 & 4 & 5 & 6\\\\\n",
        "\\hline\n",
        "0.5 & 0.5 & 0.5 & 1 & 1 & 1 \\\\\n",
        "0.5 & 0.5 & 1 & 0.5 & 1 & 1\n",
        "\\end{array}$$"
      ],
      "metadata": {
        "id": "oERRH4yrXhtR"
      }
    },
    {
      "cell_type": "markdown",
      "source": [
        "**4)** На окружности заданы $2n$ точек. Сколькими способами можно попарно соединить эти точки $n$ непересекающимися отрезками?"
      ],
      "metadata": {
        "id": "hxs19MpbNz0e"
      }
    },
    {
      "cell_type": "markdown",
      "source": [
        "&ensp; При $n = 1$ есть один способ такого соединения, при $n = 2$ — два способа.  \n",
        "&ensp; Обозначим:  \n",
        "$$F(n) = \\{ \\mbox{Количество спосов попарно соединить $2n$ точек $n$ непересекающимися отрезками} \\}$$\n",
        "&ensp; Чтобы найти число способов $F(n)$ для любого $n$, выведем рекуррентное соотношение для $F(n)$.  \n",
        "Пронумеруем точки: $A_1, \\quad A_2, \\quad ..., \\quad A_{2n}.$  \n",
        "&ensp; Возьмём точку $A_1$ и соединим её с некоторой точкой. Если с одной стороны остается $2s$ точек, то по другую сторону остается $2(n−s−1)$ точек. Тем самым оставшиеся $2n−2$ точек разбиваются на $2s$ точек и $2(n − s − 1)$ точек.  \n",
        "Но для $2s$ точек можно $F(s)$ способами провести отрезки так, чтобы они не пересекали друг друга, а для $2(n − s − 1)$ точек это можно сделать F(n − s − 1) способами. По правилу произведения получаем  \n",
        "$$F(s)F(n − s − 1)$$  \n",
        "способов проведения отрезков. При этом надо считать $F(0) = 1$, потому что при $s = 0$ мы отсекаем пару точек от остальных $2(n − 1)$ (грубо говоря, закрашиваем, а не соединяем случайные две точки) и в дальнейшем получаем $F(n − 1)$ способов.\n",
        "Значит, общее число всех способов равно\n",
        "$$F(n) = F(0) \\cdot F(n − 1) + F(1) \\cdot F(n − 2) + . . . + F(s − 1) \\cdot F(n − s) + . . . + F(n − 1) \\cdot F(0).$$\n",
        "&ensp; Это рекуррентное соотношение, которому удовлетворяют числа $T_n$. Так как $F(0) = T_0 = 1$, то для всех $n$ имеем $F(n) = T_n$. Таким образом, $2n$ вершин можно  \n",
        "$$T_n = \\frac{1}{n+1}\\cdot C_{2n}^n$$  \n",
        "способами соединить попарно не пересекающимися отрезками."
      ],
      "metadata": {
        "id": "qkcMO_KlN6lx"
      }
    },
    {
      "cell_type": "markdown",
      "source": [
        "**Theorem.** Consider a pair of i.i.d. bivariate normal random variables $x$ and $y$ with standard deviations $\\sigma_x$ and $\\sigma_y$, respectively, and covariance $\\sigma_{xy}$. Let $\\rho = \\frac{\\sigma_{xy}}{\\sigma_x \\sigma_y}$ denote the unconditional correlation\n",
        "between $x$ and $y$. The correlation between $x$ and $y$ conditional on an event $x \\in A$, for any $A \\in \\mathbb{R}$ with $0 < \\mathbb{P}(A) < 1$, is given by  \n",
        "$$\\rho_A = \\rho \\left[ \\rho^2 + (1-\\rho^2)\\frac{\\sigma_x^2}{\\mathrm{Var}(x|x \\in A)} \\right]^{-1/2}$$"
      ],
      "metadata": {
        "id": "46aKvPqFXu_p"
      }
    },
    {
      "cell_type": "markdown",
      "source": [
        "**Proof.** Let $u$ and $v$ be **two independent standard normal random variables**. Now construct two bivariate normal random variables $x$ and $y$ with means $\\mu_x$ and $\\mu_y$, respectively, standard deviations $\\sigma_x$ and $\\sigma_y$, respectively, and correlation coefficient $\\rho$:  \n",
        "$$\n",
        "\\left\\{\n",
        "    \\begin{array}\\\\\n",
        "        x = \\mu_x + \\sigma_x u \\\\\n",
        "        y = \\mu_y + \\rho \\sigma_y u + \\sqrt{1-\\rho^2}\\sigma_y v\n",
        "    \\end{array}\n",
        "\\right.\n",
        "$$  \n",
        "Consider an event $x \\in A$, for any $A \\in \\mathbb{R}$ with $0 < \\mathbb{P}(A) < 1$, is given by  \n",
        "$$\\rho_A = \\frac{\\mathrm{Cov}(x, y | x \\in A)}{\\sqrt{\\mathrm{Var}(x | x \\in A)}\\sqrt{\\mathrm{Var}(y | x \\in A)}}$$  \n",
        "By substituting for $u$ in $(3)$ using equation $(2)$:  \n",
        "$$\n",
        "\\left\\{\n",
        "    \\begin{array}\\\\\n",
        "        u = \\frac{x - \\mu_x}{\\sigma_x} \\\\\n",
        "        y = \\mu_y + \\rho \\sigma_y \\frac{x - \\mu_x}{\\sigma_x} + \\sqrt{1-\\rho^2}\\sigma_y v\n",
        "    \\end{array}\n",
        "\\right.\n",
        "$$   \n",
        "then substituting the resulting expression for $y$ into $(4)$, and\n",
        "using the fact that $x$ and $v$ are independent by construction, one can rewrite this as (using property of covariance that cov of sum equals to the sum of covariance for the independent variables)\n",
        "$$\\rho_A = \\frac{\\mathrm{Cov}(x, \\mu_y + \\rho \\sigma_y \\frac{x - \\mu_x}{\\sigma_x} + \\sqrt{1-\\rho^2}\\sigma_y v | x \\in A)}{\\sqrt{\\mathrm{Var}(x | x \\in A)}\\sqrt{\\mathrm{Var}(\\mu_y + \\rho \\sigma_y \\frac{x - \\mu_x}{\\sigma_x} + \\sqrt{1-\\rho^2}\\sigma_y v | x \\in A)}} = \\frac{0 + \\frac{\\rho \\sigma_y \\mathrm{Var}(x | x \\in A)}{\\sigma_x} + 0 + 0}{\\sqrt{\\mathrm{Var}(x | x \\in A)}\\sqrt{\\rho^2 \\sigma_y^2/\\sigma_x^2 \\mathrm{Var}(x|x \\in A) + (1-\\rho^2)\\sigma_y^2 \\cdot 1}} = \\frac{\\rho \\mathrm{Var}(x | x \\in A)^{1/2}}{\\sqrt{\\rho^2  \\mathrm{Var}(x|x \\in A) + (1-\\rho^2)\\sigma_x^2 \\cdot 1}} = \\mbox{rewriting variance term in the denominator results in}   \n",
        "= \\rho \\left[ \\rho^2 + (1-\\rho^2)\\frac{\\sigma_x^2}{\\mathrm{Var}(x|x \\in A)} \\right]^{-1/2}$$"
      ],
      "metadata": {
        "id": "66qXovuyegdy"
      }
    },
    {
      "cell_type": "markdown",
      "source": [
        "**5)** Вычислить сумму $S_n(x) = \\sum_{k=1}^n \\sin kx$, [[ссылОЧКА](https://math.stackexchange.com/questions/1172449/find-formula-of-sum-sin-nx)]"
      ],
      "metadata": {
        "id": "L8cznf4VOuiB"
      }
    },
    {
      "cell_type": "markdown",
      "source": [
        "$$\\require{cancel}$$\n",
        "\n",
        "Рассмотрим равенство\n",
        "$$S_n(x) \\cdot 2 \\sin \\frac{x}{2} = \\sum_{k=1}^n 2\\sin kx \\cdot \\sin \\frac{x}{2}.$$\n",
        "Так как (по формуле $\\sin\\alpha\\sin\\beta$): $2\\sin kx \\cdot \\sin \\dfrac{x}{2} = \\cos \\left(k - \\dfrac12 \\right)x - \\cos \\left(k + \\dfrac12 \\right)x$,  \n",
        "то  \n",
        "$$S_n \\cdot 2 \\sin \\frac{x}{2} = \\left[ \\cos\\frac{x}{2} - \\bcancel{\\cos\\frac32 x} \\right] + \\left[\\bcancel{\\cos\\frac32 x} -  \\cos\\frac52 x \\right] + \\dots + \\left[\\cos \\left(n - \\frac12 \\right) x - \\cos \\left(n + \\frac12 \\right) x \\right] = $$\n",
        "$$= \\cos\\frac{x}{2} - \\cos \\left(n + \\frac12 \\right) x = 2\\sin\\frac{n+1}{2}x \\cdot \\sin\\frac{n}{2}x,$$\n",
        "откуда  \n",
        "$$S_n(x) = \\frac{2\\sin\\frac{n+1}{2}x \\cdot \\sin\\frac{n}{2}x}{\\sin \\frac{x}{2}}, \\mbox{ если } \\sin \\frac{x}{2} \\neq 0;$$\n",
        "если $\\sin \\dfrac{x}{2} = 0$, $S_n(x) = 0$ (можно показать, найдя значения $x$ в знаменателе и вычислив предел дроби вида $0/0$)."
      ],
      "metadata": {
        "id": "dIWMM6IYPFzo"
      }
    },
    {
      "cell_type": "markdown",
      "source": [
        "**6)** [Тройные углы] Пусть $\\cos x + \\cos y + \\cos z = \\sin x + \\sin y + \\sin z = 0$.  \n",
        "Докажите, что $\\cos 3x + \\cos 3y + \\cos 3z = 3 \\cos (x + y + z)$."
      ],
      "metadata": {
        "id": "RMSX-o-qMiht"
      }
    },
    {
      "cell_type": "markdown",
      "source": [
        "Пусть $a = e^{ix}, b = e^{iy}, c = e^{iz}$ (по формуле Эйлера). Так как по условию сумма действительных и мнимых частей равна нулю, то $a+b+c = 0$.  \n",
        "Рассмотрим куб суммы вида: $(a+b+c)^3 = a^3 + b^3 + c^3 + 6abc + 3(a^2b + a^2c + ab^2 + b^2c + ac^2 + bc^2)$. Можно заметить, что в выражении в скобках каждый элемент в квадрате представлен 2-мя слагаемыми, если добавить последовательно какое-то третье, получится сгруппировать сумму в скобках (спойлер: $3abc$):  \n",
        "$$a^3 + b^3 + c^3 + 9abc - 3abc +3(...) = a^3+b^3+c^3 + 3(ab+bc+ac)(a+b+c) - 3abc = a^3+b^3+c^3 - 3abc = 0$$  \n",
        "Отсюда следует, что $a^3+b^3+c^3 = 3abc$. Представив экспоненциальную форму в виде тригонометрической и сравнив **действительные** части, получим  \n",
        "$$\\cos 3x + \\cos 3y + \\cos 3z = 3 \\cos (x + y + z)$$"
      ],
      "metadata": {
        "id": "UbU2oUiqNVKe"
      }
    },
    {
      "cell_type": "markdown",
      "source": [
        "Сколько существует трехзначных чисел, которые больше суммы своих цифр в 19 раз?"
      ],
      "metadata": {
        "id": "E_IZOud-DtV_"
      }
    },
    {
      "cell_type": "markdown",
      "source": [
        "1) есть трехзначное число $\\overline{abc}$  \n",
        "2) оно больше суммы его цифр в $19$ раз:  \n",
        "$$\\overline{abc} = 19 \\cdot (a+b+c)$$\n",
        "3) выделим из числа сотни-десятки-единицы и упростим выражение:  \n",
        "$$100a + 10b + c = 19a + 19b + 19c$$\n",
        "$$81a - 9b - 18c = 0 | : 9$$\n",
        "$$9a - b - 2c = 0$$  \n",
        "4) учтем ограничения: $a \\neq 0$ и $a, b, c, \\in [0, 9]$  \n",
        "Итого: одно уравнение - три неизвестных. Чисто эмпирическим путем фиксируем $c$:  \n",
        "$c = 9 \\Rightarrow 9a - b = 18$  \n",
        "* $a = 1 \\Rightarrow b = -9$ - мало  \n",
        "* $a = 2 \\Rightarrow b = 0$ - ок  \n",
        "* $a = 3 \\Rightarrow b = 9$ - ок  \n",
        "* $a = 4 \\Rightarrow b = 18$ - дохуя\n",
        "\n",
        "$c = 8 \\Rightarrow 9a - b = 16$  \n",
        "* $a = 1 \\Rightarrow b = -7$ - мало\n",
        "* $a = 2 \\Rightarrow b = 2$ - ок\n",
        "* $a = 3 \\Rightarrow b = 11$ - дохуя\n",
        "\n",
        "...\n",
        "\n",
        "И так далее до $c = 0$"
      ],
      "metadata": {
        "id": "XUMgV2_iDuvX"
      }
    },
    {
      "cell_type": "code",
      "source": [
        "n = 0\n",
        "a = 1\n",
        "for c in range(0, 10):\n",
        "  # print('abc')\n",
        "  while (9*a - 2*c) < 10:\n",
        "    # print('a = ', a)\n",
        "    # print('c = ', c)\n",
        "    x = 9*a - 2*c\n",
        "    if x in range(0, 10):\n",
        "      print(str(a) + str(x) + str(c))\n",
        "      n += 1\n",
        "    a += 1\n",
        "  a = 1\n",
        "\n",
        "n"
      ],
      "metadata": {
        "colab": {
          "base_uri": "https://localhost:8080/"
        },
        "id": "CdvMJMZVj8Km",
        "outputId": "ac58d107-625e-4e91-9feb-785110c9c865"
      },
      "execution_count": null,
      "outputs": [
        {
          "output_type": "stream",
          "name": "stdout",
          "text": [
            "190\n",
            "171\n",
            "152\n",
            "133\n",
            "114\n",
            "285\n",
            "266\n",
            "247\n",
            "228\n",
            "209\n",
            "399\n"
          ]
        },
        {
          "output_type": "execute_result",
          "data": {
            "text/plain": [
              "11"
            ]
          },
          "metadata": {},
          "execution_count": 38
        }
      ]
    },
    {
      "cell_type": "markdown",
      "source": [
        "**7)** Решить уравнение $x^3 + x -1 = 0$ на отрезке $[0; 1]$ [методом Ньютона](https://ru.algorithmica.org/cs/numerical/newton/) с точностью $\\epsilon = 0.01$."
      ],
      "metadata": {
        "id": "kQX2eN98za_8"
      }
    },
    {
      "cell_type": "markdown",
      "source": [
        "Единственные требования, накладываемые на функцию $f$ — что у неё есть хотя бы один корень (на концах отрезка значения функции разные) и что она непрерывна и дифференцируема на интервале поиска.\n",
        "\n",
        "Используя уравнение касатальной, можно итеративно найти приближенный корень с заданной точностью: интуиция в том, что если функция\n",
        "$f$ непрерывная и дифф-ая, и $x_i$​ уже достаточно близок к корню, то $x_{i+1}​$ будет ещё ближе, где $x_{i+1}​$ - абсцисса пересечения касательной с $Ox$.\n",
        "\n",
        "* Уравнение касательной: $y = f(x_i) + (x_{i+1} - x_i) \\cdot f'(x_i) \\Rightarrow y = 0$;\n",
        "* $x_{i+1} = x_i - \\dfrac{f(x_i)}{f'(x_i)}$.\n",
        "\n",
        "Выберем начальное значение: при $x_0 = 0 \\Rightarrow x_1 = 0 - \\dfrac00$. Не подходит.\n",
        "При $x_0 = 1 \\Rightarrow x_1 = 1 - \\dfrac14 = 0.75$. Подходит."
      ],
      "metadata": {
        "id": "mvncmCqh0Yus"
      }
    },
    {
      "cell_type": "code",
      "source": [
        "x = 1\n",
        "e = 0.01\n",
        "\n",
        "f_x = x**3 + x - 1\n",
        "f_der_x = 3*x**2 + 1\n",
        "\n",
        "x_1 = x - f_x/f_der_x\n",
        "\n",
        "while abs(x - x_1) > e:\n",
        "  #reassign the current value\n",
        "  x = x_1\n",
        "  #find the derivatives\n",
        "  f_x = x**3 + x - 1\n",
        "  f_der_x = 3*x**2 + 1\n",
        "  #find the next one\n",
        "  x_1 = x - f_x/f_der_x\n",
        "\n",
        "print(f'x = {round(x, 3)}')"
      ],
      "metadata": {
        "colab": {
          "base_uri": "https://localhost:8080/"
        },
        "id": "ZWHyr8V_3tJk",
        "outputId": "73719f2d-a659-4d60-d5ac-9dc237eb3dd9"
      },
      "execution_count": 5,
      "outputs": [
        {
          "output_type": "stream",
          "name": "stdout",
          "text": [
            "x = 0.686\n"
          ]
        }
      ]
    }
  ]
}